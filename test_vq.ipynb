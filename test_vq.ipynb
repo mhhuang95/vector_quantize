{
 "cells": [
  {
   "cell_type": "code",
   "execution_count": 1,
   "metadata": {},
   "outputs": [],
   "source": [
    "import torch\n",
    "import pytest\n",
    "\n",
    "from vector_quantize_pytorch.vector_quantize import VectorQuantize\n",
    "from vector_quantize_pytorch.residual_vq import ResidualVQ\n",
    "\n",
    "\n",
    "def test_vq():\n",
    "\n",
    "    vq = VectorQuantize(\n",
    "        dim = 256,\n",
    "        codebook_size = 512,\n",
    "        decay = 0.8,\n",
    "        commitment = 1.,\n",
    "        kmeans_init=True, \n",
    "        kmeans_iters=2,\n",
    "        # use_cosine_sim = True,\n",
    "        # orthogonal_reg_weight = 0.5,\n",
    "        rotation_trick=True\n",
    "    )\n",
    "\n",
    "    x = torch.randn(1, 1024, 256)\n",
    "    quantize, embed_ind, commit_loss = vq(x)\n",
    "    print(\"Loss:\", commit_loss)\n",
    "\n",
    "\n",
    "def test_residualvq():\n",
    "\n",
    "    vq = ResidualVQ(\n",
    "        num_quantizers=2,\n",
    "        n_embed = 512,\n",
    "        shared_codebook = True,\n",
    "        dim = 256,\n",
    "        decay = 0.8,\n",
    "        commitment = 1.,\n",
    "        kmeans_init=True, \n",
    "        kmeans_iters=2,\n",
    "        use_cosine_sim = True,\n",
    "        orthogonal_reg_weight = 0.5,\n",
    "        \n",
    "    )\n",
    "\n",
    "    x = torch.randn(1, 1024, 256)\n",
    "    quantize, embed_ind, commit_loss = vq(x)\n",
    "    print(\"Loss:\", commit_loss)\n",
    "\n",
    "\n"
   ]
  },
  {
   "cell_type": "code",
   "execution_count": 2,
   "metadata": {},
   "outputs": [
    {
     "name": "stdout",
     "output_type": "stream",
     "text": [
      "tensor(0.0038)\n",
      "tensor(0.0038)\n",
      "Loss: tensor([1.0063, 0.9344])\n"
     ]
    }
   ],
   "source": [
    "test_residualvq()"
   ]
  },
  {
   "cell_type": "code",
   "execution_count": 2,
   "metadata": {},
   "outputs": [
    {
     "name": "stdout",
     "output_type": "stream",
     "text": [
      "Loss: tensor(0.4474)\n"
     ]
    }
   ],
   "source": [
    "test_vq()"
   ]
  },
  {
   "cell_type": "code",
   "execution_count": null,
   "metadata": {},
   "outputs": [],
   "source": [
    "input = torch.randn(1024, 256)\n"
   ]
  }
 ],
 "metadata": {
  "kernelspec": {
   "display_name": "base",
   "language": "python",
   "name": "python3"
  },
  "language_info": {
   "codemirror_mode": {
    "name": "ipython",
    "version": 3
   },
   "file_extension": ".py",
   "mimetype": "text/x-python",
   "name": "python",
   "nbconvert_exporter": "python",
   "pygments_lexer": "ipython3",
   "version": "3.7.10"
  }
 },
 "nbformat": 4,
 "nbformat_minor": 2
}
